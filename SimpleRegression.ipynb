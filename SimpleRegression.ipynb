{
 "cells": [
  {
   "cell_type": "code",
   "execution_count": 7,
   "id": "ea44dfd3",
   "metadata": {},
   "outputs": [
    {
     "name": "stdout",
     "output_type": "stream",
     "text": [
      "W =  [[0.87934925]] , W.shape =  (1, 1) , b =  [0.60059426] , b.shape =  (1,)\n",
      "Initial error value =  0.6087791806150565 Initial W =  [[0.87934925]] \n",
      " , b =  [0.60059426]\n",
      "step =  0 error value =  0.3670122179014626 W =  [[0.92985676]] , b =  [0.61279097]\n",
      "step =  400 error value =  0.0014311606191343338 W =  [[1.02456637]] , b =  [0.91132933]\n",
      "step =  800 error value =  9.131650848346839e-05 W =  [[1.00620542]] , b =  [0.97760194]\n",
      "step =  1200 error value =  5.826533101963866e-06 W =  [[1.00156748]] , b =  [0.99434229]\n",
      "step =  1600 error value =  3.7176725821050956e-07 W =  [[1.00039594]] , b =  [0.99857087]\n",
      "step =  2000 error value =  2.372094895161508e-08 W =  [[1.00010001]] , b =  [0.999639]\n",
      "step =  2400 error value =  1.513536780744587e-09 W =  [[1.00002526]] , b =  [0.99990881]\n",
      "step =  2800 error value =  9.657259459397846e-11 W =  [[1.00000638]] , b =  [0.99997697]\n",
      "step =  3200 error value =  6.161902470653961e-12 W =  [[1.00000161]] , b =  [0.99999418]\n",
      "step =  3600 error value =  3.931658070090607e-13 W =  [[1.00000041]] , b =  [0.99999853]\n",
      "step =  4000 error value =  2.508630292261979e-14 W =  [[1.0000001]] , b =  [0.99999963]\n",
      "step =  4400 error value =  1.6006544594405833e-15 W =  [[1.00000003]] , b =  [0.99999991]\n",
      "step =  4800 error value =  1.021312167927666e-16 W =  [[1.00000001]] , b =  [0.99999998]\n",
      "step =  5200 error value =  6.516575339635485e-18 W =  [[1.]] , b =  [0.99999999]\n",
      "step =  5600 error value =  4.1579615443803333e-19 W =  [[1.]] , b =  [1.]\n",
      "step =  6000 error value =  2.6530273489867802e-20 W =  [[1.]] , b =  [1.]\n",
      "step =  6400 error value =  1.6927891976512738e-21 W =  [[1.]] , b =  [1.]\n",
      "step =  6800 error value =  1.0801174947209314e-22 W =  [[1.]] , b =  [1.]\n",
      "step =  7200 error value =  6.893917179092256e-24 W =  [[1.]] , b =  [1.]\n",
      "step =  7600 error value =  4.403494641185034e-25 W =  [[1.]] , b =  [1.]\n",
      "step =  8000 error value =  2.823945533063679e-26 W =  [[1.]] , b =  [1.]\n"
     ]
    },
    {
     "data": {
      "text/plain": [
       "array([[44.]])"
      ]
     },
     "execution_count": 7,
     "metadata": {},
     "output_type": "execute_result"
    }
   ],
   "source": [
    "import numpy as np\n",
    "\n",
    "x_data = np.array([1,2,3,4,5]).reshape(5,1)\n",
    "t_data = np.array([2,3,4,5,6]).reshape(5,1)\n",
    "\n",
    "W = np.random.rand(1,1)\n",
    "b = np.random.rand(1)\n",
    "print(\"W = \", W, \", W.shape = \", W.shape, \", b = \", b, \", b.shape = \", b.shape)\n",
    "\n",
    "def loss_func(x, t):\n",
    "    y = np.dot(x, W)+b\n",
    "    return ( np.sum((t-y)**2) ) / ( len(x) )\n",
    "\n",
    "def numerical_derivative(f, x):\n",
    "    delta_x = 1e-4\n",
    "    grad = np.zeros_like(x)\n",
    "    \n",
    "    it = np.nditer(x, flags=['multi_index'], op_flags=['readwrite'])\n",
    "    \n",
    "    while not it.finished:\n",
    "        idx = it.multi_index\n",
    "        tmp_val = x[idx]\n",
    "        x[idx] = float(tmp_val) + delta_x\n",
    "        fx1 = f(x)\n",
    "        \n",
    "        x[idx] = tmp_val - delta_x\n",
    "        fx2 = f(x)\n",
    "        grad[idx] = (fx1 - fx2) / (2*delta_x)\n",
    "        \n",
    "        x[idx] = tmp_val\n",
    "        it.iternext()\n",
    "        \n",
    "    return grad\n",
    "\n",
    "def predict(x):\n",
    "    y = np.dot(x,W) + b\n",
    "    \n",
    "    return y\n",
    "\n",
    "learning_rate = 1e-2\n",
    "\n",
    "f = lambda x : loss_func(x_data, t_data)\n",
    "\n",
    "print(\"Initial error value = \", loss_func(x_data, t_data), \"Initial W = \", W, \"\\n\", \", b = \", b)\n",
    "\n",
    "for step in range(8001):\n",
    "    \n",
    "    W -= learning_rate * numerical_derivative(f, W)\n",
    "    b -= learning_rate * numerical_derivative(f, b)\n",
    "    \n",
    "    if (step % 400 == 0):\n",
    "        print(\"step = \", step, \"error value = \", loss_func(x_data, t_data), \"W = \", W, \", b = \", b)\n",
    "        \n",
    "predict(43)"
   ]
  },
  {
   "cell_type": "code",
   "execution_count": null,
   "id": "bdb22b05",
   "metadata": {},
   "outputs": [],
   "source": []
  }
 ],
 "metadata": {
  "kernelspec": {
   "display_name": "Python 3",
   "language": "python",
   "name": "python3"
  },
  "language_info": {
   "codemirror_mode": {
    "name": "ipython",
    "version": 3
   },
   "file_extension": ".py",
   "mimetype": "text/x-python",
   "name": "python",
   "nbconvert_exporter": "python",
   "pygments_lexer": "ipython3",
   "version": "3.8.8"
  }
 },
 "nbformat": 4,
 "nbformat_minor": 5
}
