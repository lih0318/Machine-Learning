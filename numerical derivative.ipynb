{
 "cells": [
  {
   "cell_type": "code",
   "execution_count": 1,
   "id": "f31fa364",
   "metadata": {
    "scrolled": true
   },
   "outputs": [
    {
     "name": "stdout",
     "output_type": "stream",
     "text": [
      "result == 6.000000000012662\n"
     ]
    }
   ],
   "source": [
    "def my_func1(x):\n",
    "    return x**2\n",
    "\n",
    "def numerical_derivative(f, x):\n",
    "    delta_x = 1e-4\n",
    "    return (f(x+delta_x)-f(x-delta_x))/(2*delta_x)\n",
    "\n",
    "result = numerical_derivative(my_func1, 3)\n",
    "print(\"result ==\", result)"
   ]
  },
  {
   "cell_type": "code",
   "execution_count": 3,
   "id": "5f01a2e6",
   "metadata": {},
   "outputs": [
    {
     "name": "stdout",
     "output_type": "stream",
     "text": [
      "result == 66.50150507518049\n",
      "3*ex(2) + 3*2*exp(2) == 66.50150489037586\n"
     ]
    }
   ],
   "source": [
    "import numpy as np\n",
    "\n",
    "def my_func2(x):\n",
    "    return 3*x*(np.exp(x))\n",
    "\n",
    "def numerical_derivative(f, x):\n",
    "    delta_x = 1e-4\n",
    "    return (f(x+delta_x)-f(x-delta_x))/(2*delta_x)\n",
    "\n",
    "result = numerical_derivative(my_func2, 2)\n",
    "print(\"result ==\", result)\n",
    "\n",
    "print(\"3*ex(2) + 3*2*exp(2) == \", end='')\n",
    "print(3*np.exp(2) + 3*2*np.exp(2))"
   ]
  },
  {
   "cell_type": "code",
   "execution_count": 8,
   "id": "278233b1",
   "metadata": {},
   "outputs": [
    {
     "name": "stdout",
     "output_type": "stream",
     "text": [
      "debug 1. initial input variable = [3.]\n",
      "debug 2. initial grad = [0.]\n",
      "=======================================\n",
      "debug 3. idx =  (0,) , x [idx] =  3.0\n",
      "debug 4. grad[idx] =  6.000000000012662\n",
      "debug 5. grad =  [6.]\n",
      "=======================================\n"
     ]
    },
    {
     "data": {
      "text/plain": [
       "array([6.])"
      ]
     },
     "execution_count": 8,
     "metadata": {},
     "output_type": "execute_result"
    }
   ],
   "source": [
    "import numpy as np\n",
    "\n",
    "def numerical_derivative(f, x):\n",
    "    delta_x = 1e-4\n",
    "    grad = np.zeros_like(x)\n",
    "    \n",
    "    print(\"debug 1. initial input variable =\", x)\n",
    "    print(\"debug 2. initial grad =\", grad)\n",
    "    print(\"=======================================\")\n",
    "    \n",
    "    it = np.nditer(x, flags=['multi_index'], op_flags=['readwrite'])\n",
    "    \n",
    "    while not it.finished:\n",
    "        idx = it.multi_index\n",
    "    \n",
    "        print(\"debug 3. idx = \", idx, \", x [idx] = \", x[idx])\n",
    "        \n",
    "        tmp_val = x[idx]\n",
    "        x[idx] = float(tmp_val) + delta_x\n",
    "        fx1 = f(x)\n",
    "        \n",
    "        x[idx] = tmp_val - delta_x\n",
    "        fx2 = f(x)\n",
    "        grad[idx] = (fx1 - fx2) / (2*delta_x)\n",
    "        \n",
    "        print(\"debug 4. grad[idx] = \", grad[idx])\n",
    "        print(\"debug 5. grad = \", grad)\n",
    "        print(\"=======================================\")\n",
    "        \n",
    "        x[idx] = tmp_val\n",
    "        it.iternext()\n",
    "        \n",
    "    return grad\n",
    "\n",
    "# 입력변수 1개인 함수 f(x) = x**2\n",
    "def func1(input_obj):\n",
    "    x = input_obj[0]\n",
    "    return x**2\n",
    "\n",
    "# x = 3.0에서의 편미분 값\n",
    "numerical_derivative(func1, np.array([3.0]))"
   ]
  },
  {
   "cell_type": "code",
   "execution_count": 11,
   "id": "282bfa05",
   "metadata": {
    "scrolled": true
   },
   "outputs": [
    {
     "name": "stdout",
     "output_type": "stream",
     "text": [
      "debug 1. initial input variable = [1. 2.]\n",
      "debug 2. initial grad = [0. 0.]\n",
      "=======================================\n",
      "debug 3. idx =  (0,) , x[idx] =  1.0\n",
      "debug 4. grad[idx] =  7.999999999990237\n",
      "debug 5. grad =  [8. 0.]\n",
      "=======================================\n",
      "debug 3. idx =  (1,) , x[idx] =  2.0\n",
      "debug 4. grad[idx] =  15.000000010019221\n",
      "debug 5. grad =  [ 8.         15.00000001]\n",
      "=======================================\n"
     ]
    },
    {
     "data": {
      "text/plain": [
       "array([ 8.        , 15.00000001])"
      ]
     },
     "execution_count": 11,
     "metadata": {},
     "output_type": "execute_result"
    }
   ],
   "source": [
    "import numpy as np\n",
    "\n",
    "def numerical_derivative(f, x):\n",
    "    delta_x = 1e-4\n",
    "    grad = np.zeros_like(x)\n",
    "    print(\"debug 1. initial input variable =\", x)\n",
    "    print(\"debug 2. initial grad =\", grad)\n",
    "    print(\"=======================================\")\n",
    "    \n",
    "    it = np.nditer(x, flags=['multi_index'], op_flags=['readwrite'])\n",
    "    \n",
    "    while not it.finished:\n",
    "        idx = it.multi_index\n",
    "        \n",
    "        print(\"debug 3. idx = \", idx, \", x[idx] = \", x[idx])\n",
    "        \n",
    "        tmp_val = x[idx]\n",
    "        x[idx] = float(tmp_val) + delta_x\n",
    "        fx1 = f(x)\n",
    "        \n",
    "        x[idx] = tmp_val - delta_x\n",
    "        fx2 = f(x)\n",
    "        grad[idx] = (fx1 - fx2) / (2*delta_x)\n",
    "        \n",
    "        print(\"debug 4. grad[idx] = \", grad[idx])\n",
    "        print(\"debug 5. grad = \", grad)\n",
    "        print(\"=======================================\")\n",
    "        \n",
    "        x[idx] = tmp_val\n",
    "        it.iternext()\n",
    "        \n",
    "    return grad\n",
    "\n",
    "def func1(input_obj):\n",
    "    \n",
    "    x = input_obj[0]\n",
    "    y = input_obj[1]\n",
    "    \n",
    "    return (2*x + 3*x*y + np.power(y,3))\n",
    "\n",
    "input =  np.array([1.0, 2.0])\n",
    "numerical_derivative(func1, input)"
   ]
  },
  {
   "cell_type": "code",
   "execution_count": 12,
   "id": "62e63d13",
   "metadata": {},
   "outputs": [
    {
     "name": "stdout",
     "output_type": "stream",
     "text": [
      "debug 1. initial input variable = [[1. 2.]\n",
      " [3. 4.]]\n",
      "debug 2. initial grad = [[0. 0.]\n",
      " [0. 0.]]\n",
      "=======================================\n",
      "debug 3. idx =  (0, 0) , x[idx] =  1.0\n",
      "debug 4. grad[idx] =  5.000000000023874\n",
      "debug 5. grad =  [[5. 0.]\n",
      " [0. 0.]]\n",
      "=======================================\n",
      "debug 3. idx =  (0, 1) , x[idx] =  2.0\n",
      "debug 4. grad[idx] =  13.00000000000523\n",
      "debug 5. grad =  [[ 5. 13.]\n",
      " [ 0.  0.]]\n",
      "=======================================\n",
      "debug 3. idx =  (1, 0) , x[idx] =  3.0\n",
      "debug 4. grad[idx] =  32.00000000006753\n",
      "debug 5. grad =  [[ 5. 13.]\n",
      " [32.  0.]]\n",
      "=======================================\n",
      "debug 3. idx =  (1, 1) , x[idx] =  4.0\n",
      "debug 4. grad[idx] =  15.000000000000568\n",
      "debug 5. grad =  [[ 5. 13.]\n",
      " [32. 15.]]\n",
      "=======================================\n"
     ]
    },
    {
     "data": {
      "text/plain": [
       "array([[ 5., 13.],\n",
       "       [32., 15.]])"
      ]
     },
     "execution_count": 12,
     "metadata": {},
     "output_type": "execute_result"
    }
   ],
   "source": [
    "import numpy as np\n",
    "\n",
    "def numerical_derivative(f, x):\n",
    "    delta_x = 1e-4\n",
    "    grad = np.zeros_like(x)\n",
    "    print(\"debug 1. initial input variable =\", x)\n",
    "    print(\"debug 2. initial grad =\", grad)\n",
    "    print(\"=======================================\")\n",
    "    \n",
    "    it = np.nditer(x, flags=['multi_index'], op_flags=['readwrite'])\n",
    "    \n",
    "    while not it.finished:\n",
    "        idx = it.multi_index\n",
    "        \n",
    "        print(\"debug 3. idx = \", idx, \", x[idx] = \", x[idx])\n",
    "        \n",
    "        tmp_val = x[idx]\n",
    "        x[idx] = float(tmp_val) + delta_x\n",
    "        fx1 = f(x)\n",
    "        \n",
    "        x[idx] = tmp_val - delta_x\n",
    "        fx2 = f(x)\n",
    "        grad[idx] = (fx1 - fx2) / (2*(delta_x))\n",
    "        \n",
    "        print(\"debug 4. grad[idx] = \", grad[idx])\n",
    "        print(\"debug 5. grad = \", grad)\n",
    "        print(\"=======================================\")\n",
    "        \n",
    "        x[idx] = tmp_val\n",
    "        it.iternext()\n",
    "        \n",
    "    return grad\n",
    "\n",
    "def func1(input_obj):\n",
    "    w = input_obj[0, 0]\n",
    "    x = input_obj[0, 1]\n",
    "    y = input_obj[1, 0]\n",
    "    z = input_obj[1, 1]\n",
    "    \n",
    "    return (w*x + x*y*z + 3*w + z*np.power(y,2))\n",
    "\n",
    "input = np.array([ [1.0, 2.0], [3.0, 4.0] ])\n",
    "\n",
    "numerical_derivative(func1, input)"
   ]
  },
  {
   "cell_type": "code",
   "execution_count": null,
   "id": "582c5e2b",
   "metadata": {},
   "outputs": [],
   "source": []
  }
 ],
 "metadata": {
  "kernelspec": {
   "display_name": "Python 3",
   "language": "python",
   "name": "python3"
  },
  "language_info": {
   "codemirror_mode": {
    "name": "ipython",
    "version": 3
   },
   "file_extension": ".py",
   "mimetype": "text/x-python",
   "name": "python",
   "nbconvert_exporter": "python",
   "pygments_lexer": "ipython3",
   "version": "3.8.8"
  }
 },
 "nbformat": 4,
 "nbformat_minor": 5
}
